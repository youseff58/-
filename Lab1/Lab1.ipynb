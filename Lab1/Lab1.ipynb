{
 "cells": [
  {
   "cell_type": "code",
   "execution_count": 1,
   "id": "d2ef87a1",
   "metadata": {},
   "outputs": [],
   "source": [
    "import pandas as pd\n",
    "import numpy as np\n",
    "import matplotlib.pyplot as plt"
   ]
  },
  {
   "cell_type": "code",
   "execution_count": 2,
   "id": "b859133a",
   "metadata": {
    "scrolled": true
   },
   "outputs": [
    {
     "name": "stdout",
     "output_type": "stream",
     "text": [
      "y:  [-1 -1 -1 -1  1 -1  1  1  1 -1 -1  1 -1  1 -1 -1 -1 -1 -1  1 -1 -1 -1 -1\n",
      "  1 -1 -1  1 -1  1  1 -1 -1  1  1  1 -1  1 -1 -1 -1 -1  1 -1  1  1 -1  1\n",
      "  1 -1 -1 -1  1 -1 -1 -1 -1 -1 -1 -1 -1 -1 -1  1 -1 -1  1 -1 -1 -1  1 -1\n",
      "  1 -1 -1 -1 -1 -1 -1 -1  1  1  1  1 -1  1 -1 -1 -1  1 -1 -1  1 -1  1  1\n",
      "  1 -1 -1 -1]\n",
      "X:  [[5.6 4.1]\n",
      " [5.9 4.8]\n",
      " [7.7 6.7]\n",
      " [6.  4.5]\n",
      " [4.6 1.5]\n",
      " [5.7 4.2]\n",
      " [5.1 1.6]\n",
      " [5.4 1.5]\n",
      " [5.4 1.7]\n",
      " [6.1 4.7]\n",
      " [6.6 4.4]\n",
      " [4.4 1.3]\n",
      " [6.6 4.6]\n",
      " [5.7 1.7]\n",
      " [7.2 5.8]\n",
      " [6.2 5.4]\n",
      " [5.5 4. ]\n",
      " [6.5 5.1]\n",
      " [7.7 6.1]\n",
      " [5.  1.6]\n",
      " [5.9 4.2]\n",
      " [6.  5.1]\n",
      " [6.7 5. ]\n",
      " [7.2 6.1]\n",
      " [4.7 1.3]\n",
      " [5.8 4.1]\n",
      " [5.6 4.5]\n",
      " [4.6 1. ]\n",
      " [5.5 4.4]\n",
      " [4.3 1.1]\n",
      " [5.2 1.5]\n",
      " [5.  3.3]\n",
      " [6.7 4.4]\n",
      " [5.2 1.5]\n",
      " [5.  1.5]\n",
      " [4.7 1.6]\n",
      " [6.7 5.8]\n",
      " [5.  1.4]\n",
      " [6.9 5.1]\n",
      " [5.9 5.1]\n",
      " [6.5 5.2]\n",
      " [5.7 5. ]\n",
      " [5.  1.4]\n",
      " [6.  4.5]\n",
      " [4.8 1.6]\n",
      " [4.9 1.5]\n",
      " [6.8 4.8]\n",
      " [4.8 1.9]\n",
      " [4.9 1.5]\n",
      " [6.3 4.9]\n",
      " [7.7 6.7]\n",
      " [6.1 4.7]\n",
      " [4.5 1.3]\n",
      " [6.3 4.7]\n",
      " [6.5 5.8]\n",
      " [6.9 5.4]\n",
      " [6.  4.8]\n",
      " [6.8 5.9]\n",
      " [5.6 3.6]\n",
      " [6.7 5.7]\n",
      " [6.3 4.9]\n",
      " [6.2 4.8]\n",
      " [6.4 5.3]\n",
      " [5.8 1.2]\n",
      " [5.4 4.5]\n",
      " [5.7 4.5]\n",
      " [4.6 1.4]\n",
      " [7.1 5.9]\n",
      " [5.7 4.2]\n",
      " [6.4 5.5]\n",
      " [4.8 1.6]\n",
      " [6.4 5.6]\n",
      " [4.8 1.4]\n",
      " [5.2 3.9]\n",
      " [6.  5. ]\n",
      " [4.9 3.3]\n",
      " [5.8 4. ]\n",
      " [6.8 5.5]\n",
      " [6.3 5.1]\n",
      " [6.3 5.6]\n",
      " [4.4 1.3]\n",
      " [5.1 1.4]\n",
      " [4.9 1.5]\n",
      " [5.  1.3]\n",
      " [7.9 6.4]\n",
      " [5.1 1.5]\n",
      " [7.2 6. ]\n",
      " [5.6 4.2]\n",
      " [6.1 4.9]\n",
      " [5.  1.2]\n",
      " [5.8 5.1]\n",
      " [6.1 5.6]\n",
      " [5.1 1.5]\n",
      " [5.6 3.9]\n",
      " [5.4 1.3]\n",
      " [4.6 1.4]\n",
      " [5.1 1.5]\n",
      " [6.3 5. ]\n",
      " [6.9 5.7]\n",
      " [6.2 4.5]]\n"
     ]
    }
   ],
   "source": [
    "# Загрузка данных\n",
    "\n",
    "path = 'E:\\\\data.csv'\n",
    "df = pd.read_csv(path)\n",
    "\n",
    "df = df.iloc[np.random.permutation(len(df))]\n",
    "y = df.iloc[0:100, 4].values\n",
    "y = np.where(y == \"Iris-setosa\", 1, -1)\n",
    "X = df.iloc[0:100, [0, 2]].values\n",
    "print('y: ', y)\n",
    "print('X: ', X)"
   ]
  },
  {
   "cell_type": "code",
   "execution_count": 3,
   "id": "a099663a",
   "metadata": {},
   "outputs": [
    {
     "name": "stdout",
     "output_type": "stream",
     "text": [
      "input_size: 2\n",
      "neurons_hidden_layer: 10\n",
      "neurons_output_layer: 1\n"
     ]
    }
   ],
   "source": [
    "inputSize = X.shape[1] # количество входных сигналов равно количеству признаков задачи \n",
    "hiddenSizes = 10 # задаем число нейронов скрытого (А) слоя \n",
    "outputSize = 1 if len(y.shape) else y.shape[1] # количество выходных сигналов равно количеству классов задачи\n",
    "\n",
    "print('input_size:', inputSize)\n",
    "print('neurons_hidden_layer:',hiddenSizes)\n",
    "print('neurons_output_layer:',outputSize)"
   ]
  },
  {
   "cell_type": "code",
   "execution_count": 4,
   "id": "0368060f-1574-4184-86fc-3aa2c5fa2025",
   "metadata": {},
   "outputs": [],
   "source": [
    "# функция прямого прохода (предсказания) \n",
    "def predict(Xp):\n",
    "    # выходы первого слоя = входные сигналы * веса первого слоя\n",
    "    hidden_predict = np.where((np.dot(Xp, Win[1:,:]) + Win[0,:]) >= 0.0, 1, -1).astype(np.float64)\n",
    "    # выходы второго слоя = выходы первого слоя * веса второго слоя\n",
    "    out = np.where((np.dot(hidden_predict, Wout[1:,:]) + Wout[0,:]) >= 0.0, 1, -1).astype(np.float64)\n",
    "    return out, hidden_predict"
   ]
  },
  {
   "cell_type": "code",
   "execution_count": 10,
   "id": "71e83ec9",
   "metadata": {},
   "outputs": [
    {
     "data": {
      "text/plain": [
       "array([[0.],\n",
       "       [1.],\n",
       "       [1.],\n",
       "       [0.],\n",
       "       [0.],\n",
       "       [1.],\n",
       "       [1.],\n",
       "       [1.],\n",
       "       [0.],\n",
       "       [1.],\n",
       "       [0.]])"
      ]
     },
     "execution_count": 10,
     "metadata": {},
     "output_type": "execute_result"
    }
   ],
   "source": [
    "# создаем матрицу весов скрытого слоя\n",
    "Win = np.zeros((1 + inputSize, hiddenSizes))\n",
    "# пороги w0 задаем случайными числами\n",
    "Win[0,:] = (np.random.randint(0, 3, size = (hiddenSizes)))\n",
    "# остальные веса  задаем случайно -1, 0 или 1 \n",
    "Win[1:,:] = (np.random.randint(-1, 2, size = (inputSize,hiddenSizes)))\n",
    "\n",
    "# случайно инициализируем веса выходного слоя\n",
    "Wout = np.random.randint(0, 2, size = (1+hiddenSizes,outputSize)).astype(np.float64)\n",
    "Wout"
   ]
  },
  {
   "cell_type": "code",
   "execution_count": 11,
   "id": "cb44a800",
   "metadata": {},
   "outputs": [
    {
     "name": "stdout",
     "output_type": "stream",
     "text": [
      "iteration: 0\n",
      "sum_errors 102.0\n",
      "iteration: 1\n",
      "sum_errors 68.0\n",
      "iteration: 2\n",
      "Повторение весов!\n",
      "sum_errors 68.0\n"
     ]
    }
   ],
   "source": [
    "# количетсво обучающих итераций\n",
    "n_iter = 0\n",
    "# шаг обучения\n",
    "step = 0.01\n",
    "#количество\n",
    "check_iter = 5\n",
    "\n",
    "# список для хранения  матрицы весов второго слоя\n",
    "list_weights = [];\n",
    "\n",
    "break_out_flag = True\n",
    "\n",
    "#обучение\n",
    "while(break_out_flag):\n",
    "    print('iteration:',n_iter)\n",
    "    n_iter+=1\n",
    "\n",
    "    for x_input, expected, j in zip(X, y, range(X.shape[0])):\n",
    "        W_2_out, W_1_out = predict(x_input)\n",
    "        Wout[1:] += ((step * (expected - W_2_out)) * W_1_out).reshape(-1, 1)\n",
    "        Wout[0] += step * (expected - W_2_out)\n",
    "\n",
    "    #список матрицы весов второго слоя\n",
    "    list_weights.append(Wout.tobytes())\n",
    "\n",
    "    for item in list_weights:\n",
    "        if list_weights.count(item) > 1:\n",
    "            print('Повторение весов!')\n",
    "            break_out_flag = False\n",
    "            break\n",
    "\n",
    "    W_2_out, W_1_out = predict(X)\n",
    "    sum_errors = sum(abs(W_2_out.reshape(-1) - y))\n",
    "    print('sum_errors', sum_errors)\n",
    "    \n",
    "    if (sum_errors == 0):\n",
    "        print('Все примеры обучающей выборки решены верно')\n",
    "        break"
   ]
  },
  {
   "cell_type": "code",
   "execution_count": 12,
   "id": "721d8fea",
   "metadata": {},
   "outputs": [
    {
     "name": "stdout",
     "output_type": "stream",
     "text": [
      "sum_errors -68.0\n"
     ]
    }
   ],
   "source": [
    "W_2_out, W_1_out = predict(X)\n",
    "sum_errors =sum( W_2_out.reshape(-1) - y)\n",
    "print('sum_errors', sum_errors)"
   ]
  }
 ],
 "metadata": {
  "kernelspec": {
   "display_name": "Python 3 (ipykernel)",
   "language": "python",
   "name": "python3"
  },
  "language_info": {
   "codemirror_mode": {
    "name": "ipython",
    "version": 3
   },
   "file_extension": ".py",
   "mimetype": "text/x-python",
   "name": "python",
   "nbconvert_exporter": "python",
   "pygments_lexer": "ipython3",
   "version": "3.11.5"
  }
 },
 "nbformat": 4,
 "nbformat_minor": 5
}
