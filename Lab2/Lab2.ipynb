{
 "cells": [
  {
   "cell_type": "code",
   "execution_count": 10,
   "id": "a1479d07",
   "metadata": {},
   "outputs": [],
   "source": [
    "import numpy as np\n",
    "import pandas as pd"
   ]
  },
  {
   "cell_type": "code",
   "execution_count": 11,
   "id": "ac5996ac-74c8-47d2-98f3-32581cd3f6bb",
   "metadata": {},
   "outputs": [],
   "source": [
    "# Загрузим данные\n",
    "df = pd.read_csv('E:\\\\data.csv')\n",
    "\n",
    "# Преобразуем метки классов в численные значения\n",
    "class_mapping = {'Iris-setosa': 0, 'Iris-versicolor': 1, 'Iris-virginica': 2}\n",
    "df['Class'] = df.iloc[:, 4].map(class_mapping)\n",
    "\n",
    "# Разделим данные на признаки и метки\n",
    "X = df.iloc[:, :4].values\n",
    "y = df['Class'].values.reshape(-1, 1)\n",
    "# Добавим фиктивный признак для удобства матричных вычислений\n",
    "X = np.concatenate([np.ones((len(X), 1)), X], axis=1)"
   ]
  },
  {
   "cell_type": "code",
   "execution_count": 12,
   "id": "b91fa48b-11d9-44c3-9be4-69f9df122289",
   "metadata": {},
   "outputs": [],
   "source": [
    "# Инициализируем нейронную сеть\n",
    "input_size = X.shape[1]  # Количество входных сигналов равно количеству признаков задачи \n",
    "hidden_size = 5  # Задаем количество нейронов в скрытом слое \n",
    "output_size = 3  # Количество выходных сигналов равно количеству классов задачи\n",
    "\n",
    "# Веса инициализируем случайными числами\n",
    "weights = [\n",
    "    np.random.uniform(-2, 2, size=(input_size, hidden_size)),  # Веса скрытого слоя\n",
    "    np.random.uniform(-2, 2, size=(hidden_size, output_size))   # Веса выходного слоя\n",
    "]"
   ]
  },
  {
   "cell_type": "code",
   "execution_count": 13,
   "id": "bf538880-34b5-41e0-8a9c-47e2860b484d",
   "metadata": {},
   "outputs": [],
   "source": [
    "# Зададим функцию активации - сигмоида\n",
    "def sigmoid(y):\n",
    "    return 1 / (1 + np.exp(-y))\n",
    "\n",
    "# Производная от сигмоиды для вычисления градиента\n",
    "def derivative_sigmoid(y):\n",
    "    return sigmoid(y) * (1 - sigmoid(y))"
   ]
  },
  {
   "cell_type": "code",
   "execution_count": 14,
   "id": "51cfe663-730b-4d5c-a996-c8d433e34443",
   "metadata": {},
   "outputs": [],
   "source": [
    "# Прямой проход\n",
    "def feed_forward(x):\n",
    "    input_ = x\n",
    "    hidden_ = sigmoid(np.dot(input_, weights[0]))\n",
    "    output_ = sigmoid(np.dot(hidden_, weights[1]))\n",
    "    return [input_, hidden_, output_]\n",
    "\n",
    "# Обратный проход\n",
    "def backward(learning_rate, target, net_output, layers):\n",
    "    err = (target - net_output)\n",
    "    \n",
    "    for i in range(len(layers) - 1, 0, -1):\n",
    "        err_delta = err * derivative_sigmoid(layers[i])\n",
    "        err = np.dot(err_delta, weights[i - 1].T)\n",
    "        dw = np.dot(layers[i - 1].T, err_delta)\n",
    "        weights[i - 1] += learning_rate * dw"
   ]
  },
  {
   "cell_type": "code",
   "execution_count": 15,
   "id": "47f40346-a7cc-4ab8-9d84-fcf49f4a124f",
   "metadata": {},
   "outputs": [],
   "source": [
    "# Функция обучения\n",
    "def train(x_values, target, learning_rate):\n",
    "    output = feed_forward(x_values)\n",
    "    backward(learning_rate, target, output[2], output)\n",
    "    return None\n",
    "\n",
    "# Функция предсказания\n",
    "def predict(x_values):\n",
    "    return feed_forward(x_values)[-1]"
   ]
  },
  {
   "cell_type": "code",
   "execution_count": 16,
   "id": "46548338-178f-4a61-916a-737c0266a357",
   "metadata": {},
   "outputs": [],
   "source": [
    "# Параметры обучения\n",
    "epochs = 1000\n",
    "learning_rate = 0.01\n",
    "\n",
    "# Обучаем сеть\n",
    "for epoch in range(epochs):\n",
    "    random_indices = np.arange(len(X))\n",
    "    np.random.shuffle(random_indices)\n",
    "    \n",
    "    X = X[random_indices]\n",
    "    y = y[random_indices]\n",
    "    \n",
    "    for i in range(len(X)):\n",
    "        x_values = X[i].reshape(1, -1)\n",
    "        target = np.zeros((1, output_size))\n",
    "        target[0, y[i]] = 1  # One-hot encoding меток классов\n",
    "        train(x_values, target, learning_rate)"
   ]
  },
  {
   "cell_type": "code",
   "execution_count": 17,
   "id": "51cef375-aee1-4f1e-8bcf-efc69f872df0",
   "metadata": {},
   "outputs": [
    {
     "name": "stdout",
     "output_type": "stream",
     "text": [
      "correct:  128\n",
      "incorrect:  22\n",
      "Точность на обучающей выборке: 85.33%\n"
     ]
    }
   ],
   "source": [
    "# Считаем точность на обучающей выборке\n",
    "correct_predictions = 0\n",
    "incorrect_predictions = 0\n",
    "\n",
    "for i in range(len(X)):\n",
    "    x_values = X[i].reshape(1, -1)\n",
    "    predicted_class = np.argmax(predict(x_values))\n",
    "    if predicted_class == y[i]:\n",
    "        correct_predictions += 1\n",
    "    else:\n",
    "        incorrect_predictions += 1\n",
    "\n",
    "print('correct: ', correct_predictions)\n",
    "print('incorrect: ', incorrect_predictions)\n",
    "\n",
    "accuracy = correct_predictions / len(X)\n",
    "print(f\"Точность на обучающей выборке: {accuracy * 100:.2f}%\")"
   ]
  },
  {
   "cell_type": "code",
   "execution_count": 18,
   "id": "6c6ac0a2",
   "metadata": {},
   "outputs": [
    {
     "data": {
      "text/plain": [
       "array([[0.00166384, 0.66894539, 0.99360102]])"
      ]
     },
     "execution_count": 18,
     "metadata": {},
     "output_type": "execute_result"
    }
   ],
   "source": [
    "X = df.iloc[100:101, :4].values\n",
    "# Добавим фиктивный признак для удобства матричных вычислений\n",
    "X = np.concatenate([np.ones((len(X), 1)), X], axis=1)\n",
    "y_pred = predict(X)\n",
    "y_pred"
   ]
  }
 ],
 "metadata": {
  "kernelspec": {
   "display_name": "Python 3 (ipykernel)",
   "language": "python",
   "name": "python3"
  },
  "language_info": {
   "codemirror_mode": {
    "name": "ipython",
    "version": 3
   },
   "file_extension": ".py",
   "mimetype": "text/x-python",
   "name": "python",
   "nbconvert_exporter": "python",
   "pygments_lexer": "ipython3",
   "version": "3.11.5"
  }
 },
 "nbformat": 4,
 "nbformat_minor": 5
}
