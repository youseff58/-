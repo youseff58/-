{
 "cells": [
  {
   "cell_type": "markdown",
   "id": "0d008d3f-7973-41a1-956a-ff255aa41775",
   "metadata": {},
   "source": [
    "## Лабораторная работа №3"
   ]
  },
  {
   "cell_type": "code",
   "execution_count": 32,
   "id": "8949cc66-3ae5-411c-82a0-1cfc8df05d4b",
   "metadata": {},
   "outputs": [],
   "source": [
    "import pandas as pd\n",
    "import numpy as np\n",
    "import torch\n",
    "import torch.nn as nn"
   ]
  },
  {
   "cell_type": "code",
   "execution_count": 59,
   "id": "891a9b01-79d3-4616-ba5e-a51761171d05",
   "metadata": {},
   "outputs": [],
   "source": [
    "# class MLPptorch(nn.Module):\n",
    "#     def __init__(self,\n",
    "#                  in_size,\n",
    "#                  first_hidden_size,\n",
    "#                  second_hidden_size,\n",
    "#                  third_hidden_size,\n",
    "#                  out_size):\n",
    "#         nn.Module.__init__(self)\n",
    "#         self.layers = nn.Sequential(nn.Linear(in_size, first_hidden_size),\n",
    "#                                     nn.Sigmoid(),\n",
    "#                                     nn.Linear(first_hidden_size, second_hidden_size),\n",
    "#                                     nn.Sigmoid(),\n",
    "#                                     nn.Linear(second_hidden_size, third_hidden_size),\n",
    "#                                     nn.Sigmoid(),\n",
    "#                                     nn.Linear(third_hidden_size, out_size),\n",
    "#                                     nn.Sigmoid())\n",
    "\n",
    "#     # прямой проход\n",
    "#     def forward(self, x):\n",
    "#         return self.layers(x)\n",
    "\n",
    "class MLPptorch(nn.Module):\n",
    "    def __init__(self,\n",
    "                 in_size,\n",
    "                 first_hidden_size,\n",
    "                 second_hidden_size,\n",
    "                 third_hidden_size,\n",
    "                 out_size):\n",
    "        nn.Module.__init__(self)\n",
    "        self.layers = nn.Sequential(nn.Linear(in_size, first_hidden_size),\n",
    "                                    nn.ReLU(),\n",
    "                                    nn.Linear(first_hidden_size, second_hidden_size),\n",
    "                                    nn.ReLU(),\n",
    "                                    nn.Linear(second_hidden_size, third_hidden_size),\n",
    "                                    nn.ReLU(),\n",
    "                                    nn.Linear(third_hidden_size, out_size),\n",
    "                                    nn.Sigmoid())\n",
    "\n",
    "    # прямой проход\n",
    "    def forward(self, x):\n",
    "        return self.layers(x)\n",
    "\n"
   ]
  },
  {
   "cell_type": "code",
   "execution_count": 60,
   "id": "6794cc02-46e4-40a7-8ad6-acbaf2b550b2",
   "metadata": {},
   "outputs": [],
   "source": [
    "# функция обучения\n",
    "def train(x, y, num_iter):\n",
    "    for i in range(0,num_iter):\n",
    "        pred = net.forward(x)\n",
    "        loss = lossFn(pred, y)\n",
    "        loss.backward()\n",
    "        optimizer.step()\n",
    "        if i%(num_iter/10)==0:\n",
    "           print('Ошибка на ' + str(i) + ' итерации: ', loss.item())\n",
    "    return loss.item()\n"
   ]
  },
  {
   "cell_type": "code",
   "execution_count": 76,
   "id": "884fff85-684a-4698-94ef-6b8422ae0cb2",
   "metadata": {},
   "outputs": [],
   "source": [
    "path = 'E:\\\\data.csv'\n",
    "df = pd.read_csv(path)\n",
    "df = df.iloc[np.random.permutation(len(df))]\n",
    "\n",
    "X = df.iloc[0:100, 0:3].values\n",
    "y = df.iloc[0:100, 4]\n",
    "y = y.map({'Iris-setosa': 1, 'Iris-virginica': 2, 'Iris-versicolor':3}).values.reshape(-1,1)\n",
    "Y = np.zeros((y.shape[0], np.unique(y).shape[0]))\n",
    "for i in np.unique(y):\n",
    "    Y[:,i-1] = np.where(y == i, 1, 0).reshape(1,-1)\n",
    "\n",
    "X_test = df.iloc[100:150, 0:3].values\n",
    "y = df.iloc[100:150, 4]\n",
    "y = y.map({'Iris-setosa': 1, 'Iris-virginica': 2, 'Iris-versicolor':3}).values.reshape(-1,1)\n",
    "Y_test = np.zeros((y.shape[0], np.unique(y).shape[0]))\n",
    "for i in np.unique(y):\n",
    "    Y_test[:,i-1] = np.where(y == i, 1, 0).reshape(1,-1)\n",
    "\n",
    "\n",
    "inputSize = X.shape[1]  # количество входных сигналов равно количеству признаков задачи\n",
    "first_hidden_size = 50  # задаем число нейронов скрытого слоя\n",
    "second_hidden_size = 20  # задаем число нейронов скрытого слоя\n",
    "third_hidden_size = 10  # задаем число нейронов скрытого слоя\n",
    "outputSize = Y.shape[1] if len(Y.shape) else 1  # количество выходных сигналов равно количеству классов задачи"
   ]
  },
  {
   "cell_type": "code",
   "execution_count": 77,
   "id": "2cd62323-7f92-4564-b361-8bf974100196",
   "metadata": {},
   "outputs": [],
   "source": [
    "net = MLPptorch(inputSize,\n",
    "                first_hidden_size,\n",
    "                second_hidden_size,\n",
    "                third_hidden_size,\n",
    "                outputSize)\n",
    "lossFn = nn.MSELoss()\n",
    "\n",
    "optimizer = torch.optim.SGD(net.parameters(), lr=0.0003)"
   ]
  },
  {
   "cell_type": "code",
   "execution_count": 78,
   "id": "7f338c0f-1058-411d-a32c-49a466ccccab",
   "metadata": {},
   "outputs": [
    {
     "name": "stdout",
     "output_type": "stream",
     "text": [
      "Ошибка на 0 итерации:  0.2624607980251312\n",
      "Ошибка на 500 итерации:  0.10852322727441788\n",
      "Ошибка на 1000 итерации:  0.048405177891254425\n",
      "Ошибка на 1500 итерации:  0.056823182851076126\n",
      "Ошибка на 2000 итерации:  0.036676499992609024\n",
      "Ошибка на 2500 итерации:  0.03692644089460373\n",
      "Ошибка на 3000 итерации:  0.11339106410741806\n",
      "Ошибка на 3500 итерации:  0.2266666740179062\n",
      "Ошибка на 4000 итерации:  0.2199999988079071\n",
      "Ошибка на 4500 итерации:  0.3733333349227905\n"
     ]
    }
   ],
   "source": [
    "loss_ = train(torch.from_numpy(X.astype(np.float32)), \n",
    "              torch.from_numpy(Y.astype(np.float32)), 5000)\n",
    "\n",
    "# for name, param in net.named_parameters():\n",
    "#     print(name, param)"
   ]
  },
  {
   "cell_type": "code",
   "execution_count": 79,
   "id": "adfd2c6a-19e8-446a-9d9c-7d79ea650c34",
   "metadata": {},
   "outputs": [
    {
     "name": "stdout",
     "output_type": "stream",
     "text": [
      "[ 0. 33. 33.]\n",
      "[ 0. 17. 17.]\n"
     ]
    }
   ],
   "source": [
    "pred = net.forward(torch.from_numpy(X.astype(np.float32))).detach().numpy()\n",
    "err = sum(abs((pred > 0.5) - Y))\n",
    "print(err)   \n",
    "\n",
    "pred = net.forward(torch.from_numpy(X_test.astype(np.float32))).detach().numpy()\n",
    "err = sum(abs((pred > 0.5) - Y_test))\n",
    "print(err)"
   ]
  },
  {
   "cell_type": "code",
   "execution_count": null,
   "id": "3d0c74bc-a626-47f4-b0a3-a75068b80009",
   "metadata": {},
   "outputs": [],
   "source": []
  }
 ],
 "metadata": {
  "kernelspec": {
   "display_name": "Python 3 (ipykernel)",
   "language": "python",
   "name": "python3"
  },
  "language_info": {
   "codemirror_mode": {
    "name": "ipython",
    "version": 3
   },
   "file_extension": ".py",
   "mimetype": "text/x-python",
   "name": "python",
   "nbconvert_exporter": "python",
   "pygments_lexer": "ipython3",
   "version": "3.11.4"
  }
 },
 "nbformat": 4,
 "nbformat_minor": 5
}
