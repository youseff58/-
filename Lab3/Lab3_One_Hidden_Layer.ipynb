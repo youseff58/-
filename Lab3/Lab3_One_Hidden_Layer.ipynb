{
 "cells": [
  {
   "cell_type": "markdown",
   "id": "d3e43297-f335-4f7e-91e7-70814ba56583",
   "metadata": {},
   "source": [
    "## Лабораторная работа №3"
   ]
  },
  {
   "cell_type": "code",
   "execution_count": 46,
   "id": "7f70a599-ba14-41d0-9713-28f98dd50689",
   "metadata": {},
   "outputs": [],
   "source": [
    "import pandas as pd\n",
    "import numpy as np\n",
    "import torch\n",
    "import torch.nn as nn"
   ]
  },
  {
   "cell_type": "code",
   "execution_count": 47,
   "id": "fb1948b1-066e-40d3-ad26-3c473138edce",
   "metadata": {},
   "outputs": [],
   "source": [
    "class MLPptorch(nn.Module):\n",
    "    # как и раньше для инициализации на вход нужно подать размеры входного, скрытого и выходного слоев\n",
    "    def __init__(self, in_size, hidden_size, out_size):\n",
    "        nn.Module.__init__(self)\n",
    "        # nn.Sequential - контейнер модулей\n",
    "        # он последовательно объединяет и позволяет запускать их одновременно\n",
    "        self.layers = nn.Sequential(nn.Linear(in_size, hidden_size), # слой линейных сумматоров\n",
    "                                    nn.Sigmoid(),                    # функция активации\n",
    "                                    nn.Linear(hidden_size, out_size),\n",
    "                                    nn.Sigmoid(),\n",
    "        )\n",
    "\n",
    "    \n",
    "    # прямой проход    \n",
    "    def forward(self,x):\n",
    "        return self.layers(x)"
   ]
  },
  {
   "cell_type": "code",
   "execution_count": 48,
   "id": "3e0e6ff5-f4f2-4b66-b7f3-0dd5162911d4",
   "metadata": {},
   "outputs": [],
   "source": [
    "# функция обучения\n",
    "def train(x, y, num_iter):\n",
    "    for i in range(0,num_iter):\n",
    "        pred = net.forward(x)\n",
    "        loss = lossFn(pred, y)\n",
    "        loss.backward()\n",
    "        optimizer.step()\n",
    "        if i%(num_iter/10)==0:\n",
    "           print('Ошибка на ' + str(i) + ' итерации: ', loss.item())\n",
    "    return loss.item()\n"
   ]
  },
  {
   "cell_type": "code",
   "execution_count": 49,
   "id": "f6e690fd-19db-4a8b-b0a6-2cbf3d87848f",
   "metadata": {},
   "outputs": [],
   "source": [
    "path = 'E:\\\\data.csv'\n",
    "df = pd.read_csv(path)\n",
    "df = df.iloc[np.random.permutation(len(df))]\n",
    "\n",
    "X = df.iloc[0:100, 0:3].values\n",
    "y = df.iloc[0:100, 4]\n",
    "y = y.map({'Iris-setosa': 1, 'Iris-virginica': 2, 'Iris-versicolor':3}).values.reshape(-1,1)\n",
    "Y = np.zeros((y.shape[0], np.unique(y).shape[0]))\n",
    "for i in np.unique(y):\n",
    "    Y[:,i-1] = np.where(y == i, 1, 0).reshape(1,-1)\n",
    "\n",
    "X_test = df.iloc[100:150, 0:3].values\n",
    "y = df.iloc[100:150, 4]\n",
    "y = y.map({'Iris-setosa': 1, 'Iris-virginica': 2, 'Iris-versicolor':3}).values.reshape(-1,1)\n",
    "Y_test = np.zeros((y.shape[0], np.unique(y).shape[0]))\n",
    "for i in np.unique(y):\n",
    "    Y_test[:,i-1] = np.where(y == i, 1, 0).reshape(1,-1)\n",
    "\n",
    "\n",
    "inputSize = X.shape[1] # количество входных сигналов равно количеству признаков задачи \n",
    "hiddenSizes = 50 # задаем число нейронов скрытого слоя \n",
    "outputSize = Y.shape[1] if len(Y.shape) else 1 # количество выходных сигналов равно количеству классов задачи"
   ]
  },
  {
   "cell_type": "code",
   "execution_count": 50,
   "id": "0b7461a4-1987-4d21-824b-2dc04f788417",
   "metadata": {},
   "outputs": [],
   "source": [
    "net = MLPptorch(inputSize,hiddenSizes,outputSize)\n",
    "lossFn = nn.MSELoss()\n",
    "\n",
    "optimizer = torch.optim.SGD(net.parameters(), lr=0.05)"
   ]
  },
  {
   "cell_type": "code",
   "execution_count": 51,
   "id": "c83ef900-e80f-4663-8ad6-c32f66edacc5",
   "metadata": {},
   "outputs": [
    {
     "name": "stdout",
     "output_type": "stream",
     "text": [
      "Ошибка на 0 итерации:  0.2665306329727173\n",
      "Ошибка на 500 итерации:  0.022806353867053986\n",
      "Ошибка на 1000 итерации:  0.019787825644016266\n",
      "Ошибка на 1500 итерации:  0.014508531428873539\n",
      "Ошибка на 2000 итерации:  0.01333361305296421\n",
      "Ошибка на 2500 итерации:  0.01208570972084999\n",
      "Ошибка на 3000 итерации:  0.007242335472255945\n",
      "Ошибка на 3500 итерации:  0.0066678267903625965\n",
      "Ошибка на 4000 итерации:  0.006940065883100033\n",
      "Ошибка на 4500 итерации:  0.007370485458523035\n"
     ]
    }
   ],
   "source": [
    "loss_ = train(torch.from_numpy(X.astype(np.float32)), \n",
    "              torch.from_numpy(Y.astype(np.float32)), 5000)\n",
    "\n",
    "# for name, param in net.named_parameters():\n",
    "#     print(name, param)"
   ]
  },
  {
   "cell_type": "code",
   "execution_count": 52,
   "id": "94af6347-4aed-4fbb-9655-841d1eb4ce39",
   "metadata": {},
   "outputs": [
    {
     "name": "stdout",
     "output_type": "stream",
     "text": [
      "[0. 1. 1.]\n",
      "[0. 3. 4.]\n"
     ]
    }
   ],
   "source": [
    "pred = net.forward(torch.from_numpy(X.astype(np.float32))).detach().numpy()\n",
    "err = sum(abs((pred > 0.5) - Y))\n",
    "print(err)   \n",
    "\n",
    "pred = net.forward(torch.from_numpy(X_test.astype(np.float32))).detach().numpy()\n",
    "err = sum(abs((pred > 0.5) - Y_test))\n",
    "print(err)"
   ]
  },
  {
   "cell_type": "code",
   "execution_count": null,
   "id": "a3078727-58cf-4d24-a845-7229833b8f43",
   "metadata": {},
   "outputs": [],
   "source": []
  }
 ],
 "metadata": {
  "kernelspec": {
   "display_name": "Python 3 (ipykernel)",
   "language": "python",
   "name": "python3"
  },
  "language_info": {
   "codemirror_mode": {
    "name": "ipython",
    "version": 3
   },
   "file_extension": ".py",
   "mimetype": "text/x-python",
   "name": "python",
   "nbconvert_exporter": "python",
   "pygments_lexer": "ipython3",
   "version": "3.11.4"
  }
 },
 "nbformat": 4,
 "nbformat_minor": 5
}
